{
  "nbformat": 4,
  "nbformat_minor": 0,
  "metadata": {
    "colab": {
      "provenance": []
    },
    "kernelspec": {
      "name": "ir",
      "display_name": "R"
    },
    "language_info": {
      "name": "R"
    }
  },
  "cells": [
    {
      "cell_type": "code",
      "source": [
        "# Load the required libraries\n",
        "library(rvest)\n",
        "library(tidyverse)"
      ],
      "metadata": {
        "id": "ONXxcQ0BrEwn"
      },
      "execution_count": 39,
      "outputs": []
    },
    {
      "cell_type": "code",
      "execution_count": 40,
      "metadata": {
        "id": "u8rjxGM4s6JJ"
      },
      "outputs": [],
      "source": [
        "# URL of the webpage\n",
        "url <- \"https://elbilista.se/\"\n",
        "\n",
        "# Read the HTML content from the webpage\n",
        "webpage <- read_html(url)\n",
        "\n",
        "# Extract car information\n",
        "car_items <- html_nodes(webpage, \"div.ev_cars__list-item\")\n",
        "\n",
        "# Create an empty list to store data frames\n",
        "car_data_list <- list()\n",
        "\n",
        "# Loop through each car item and extract the information\n",
        "for (car_item in car_items) {\n",
        "\n",
        "  brand <- html_text(html_nodes(car_item, \"span.ev_cars__car-brand\"))\n",
        "  car_name <- html_text(html_nodes(car_item, \"h3.ev_cars__car-name\"))\n",
        "  range <- html_text(html_nodes(car_item, \"span.range\"))\n",
        "  acceleration <- html_text(html_nodes(car_item, \"span.acceleration\"))\n",
        "  battery_capacity <- html_text(html_nodes(car_item, \"span.battery-capacity\"))\n",
        "  top_speed <- html_text(html_nodes(car_item, \"span.top-speed\"))\n",
        "\n",
        "  # Create a data frame with the extracted information\n",
        "  car_data_list[[length(car_data_list) + 1]] <- data.frame(\n",
        "    Brand = brand,\n",
        "    CarName = car_name,\n",
        "    Range = range,\n",
        "    Acceleration = acceleration,\n",
        "    BatteryCapacity = battery_capacity,\n",
        "    TopSpeed = top_speed\n",
        "  )\n",
        "}\n",
        "\n",
        "# Combine the list of data frames into a single data frame\n",
        "scraped_data <- do.call(rbind, car_data_list)\n"
      ]
    },
    {
      "cell_type": "code",
      "source": [
        "car_data <- read.csv('car_data.csv')"
      ],
      "metadata": {
        "id": "pjJkzBj7U0nK"
      },
      "execution_count": null,
      "outputs": []
    },
    {
      "cell_type": "code",
      "source": [
        "# Print the dataframe with the scraped data\n",
        "\n",
        "options(width = 180)\n",
        "\n",
        "print(head(car_data))"
      ],
      "metadata": {
        "id": "fU4ZK7YmibHm",
        "colab": {
          "base_uri": "https://localhost:8080/"
        },
        "outputId": "fbe48630-bfd0-4e23-a16b-60510ae34eb1"
      },
      "execution_count": 42,
      "outputs": [
        {
          "output_type": "stream",
          "name": "stdout",
          "text": [
            "       Brand                                                               CarName Range Acceleration BatteryCapacity TopSpeed\n",
            "1 Volkswagen             \\n                  Volkswagen ID.7 Pro S                   700            7              91      180\n",
            "2      Volvo \\n                  Volvo EX30 Twin Motor Performance                   460          3.6              69      180\n",
            "3   Maserati      \\n                  Maserati GranTurismo Folgore                   425          2.7            92.5      320\n",
            "4   Polestar  \\n                  Polestar 4 Long Range Dual Motor                   560          3.8             102      200\n",
            "5       Jeep             \\n                  Jeep Avenger Electric                   404            9              54      150\n",
            "6      Smart                    \\n                  Smart #1 Pulse                   400          3.9              66      180\n"
          ]
        }
      ]
    },
    {
      "cell_type": "code",
      "source": [
        "#Check for missing values or duplicated values\n",
        "\n",
        "sum(is.na(car_data))\n",
        "\n",
        "sum(duplicated(car_data))"
      ],
      "metadata": {
        "id": "YUp1sRdNEZVl",
        "colab": {
          "base_uri": "https://localhost:8080/",
          "height": 52
        },
        "outputId": "f985d27d-a3ae-4eab-8a63-702db0eaffb7"
      },
      "execution_count": 43,
      "outputs": [
        {
          "output_type": "display_data",
          "data": {
            "text/html": [
              "0"
            ],
            "text/markdown": "0",
            "text/latex": "0",
            "text/plain": [
              "[1] 0"
            ]
          },
          "metadata": {}
        },
        {
          "output_type": "display_data",
          "data": {
            "text/html": [
              "0"
            ],
            "text/markdown": "0",
            "text/latex": "0",
            "text/plain": [
              "[1] 0"
            ]
          },
          "metadata": {}
        }
      ]
    },
    {
      "cell_type": "code",
      "source": [
        "# Clean the CarName column by removing spaces and \\n\n",
        "# Clean the columns Range, Acceleration BatteryCapacity and TopSpeed from (km, s, kWh and km/h)\n",
        "\n",
        "clean_car_data <- car_data %>%\n",
        "  mutate(\n",
        "          CarName = trimws(CarName),\n",
        "          Range = gsub('km', '', Range),\n",
        "          Acceleration = gsub('s', '', Acceleration),\n",
        "          BatteryCapacity = gsub('kWh', '', BatteryCapacity),\n",
        "          TopSpeed = gsub('km/h', '', TopSpeed)\n",
        "        )\n",
        "\n",
        "head(clean_car_data)"
      ],
      "metadata": {
        "id": "CkmcrWtPRfYl",
        "colab": {
          "base_uri": "https://localhost:8080/",
          "height": 286
        },
        "outputId": "dd62578e-c109-4a68-e1c3-2d37906d0c89"
      },
      "execution_count": 44,
      "outputs": [
        {
          "output_type": "display_data",
          "data": {
            "text/html": [
              "<table class=\"dataframe\">\n",
              "<caption>A data.frame: 6 × 6</caption>\n",
              "<thead>\n",
              "\t<tr><th></th><th scope=col>Brand</th><th scope=col>CarName</th><th scope=col>Range</th><th scope=col>Acceleration</th><th scope=col>BatteryCapacity</th><th scope=col>TopSpeed</th></tr>\n",
              "\t<tr><th></th><th scope=col>&lt;chr&gt;</th><th scope=col>&lt;chr&gt;</th><th scope=col>&lt;chr&gt;</th><th scope=col>&lt;chr&gt;</th><th scope=col>&lt;chr&gt;</th><th scope=col>&lt;chr&gt;</th></tr>\n",
              "</thead>\n",
              "<tbody>\n",
              "\t<tr><th scope=row>1</th><td>Volkswagen</td><td>Volkswagen ID.7 Pro S            </td><td>700</td><td>7  </td><td>91  </td><td>180</td></tr>\n",
              "\t<tr><th scope=row>2</th><td>Volvo     </td><td>Volvo EX30 Twin Motor Performance</td><td>460</td><td>3.6</td><td>69  </td><td>180</td></tr>\n",
              "\t<tr><th scope=row>3</th><td>Maserati  </td><td>Maserati GranTurismo Folgore     </td><td>425</td><td>2.7</td><td>92.5</td><td>320</td></tr>\n",
              "\t<tr><th scope=row>4</th><td>Polestar  </td><td>Polestar 4 Long Range Dual Motor </td><td>560</td><td>3.8</td><td>102 </td><td>200</td></tr>\n",
              "\t<tr><th scope=row>5</th><td>Jeep      </td><td>Jeep Avenger Electric            </td><td>404</td><td>9  </td><td>54  </td><td>150</td></tr>\n",
              "\t<tr><th scope=row>6</th><td>Smart     </td><td>Smart #1 Pulse                   </td><td>400</td><td>3.9</td><td>66  </td><td>180</td></tr>\n",
              "</tbody>\n",
              "</table>\n"
            ],
            "text/markdown": "\nA data.frame: 6 × 6\n\n| <!--/--> | Brand &lt;chr&gt; | CarName &lt;chr&gt; | Range &lt;chr&gt; | Acceleration &lt;chr&gt; | BatteryCapacity &lt;chr&gt; | TopSpeed &lt;chr&gt; |\n|---|---|---|---|---|---|---|\n| 1 | Volkswagen | Volkswagen ID.7 Pro S             | 700 | 7   | 91   | 180 |\n| 2 | Volvo      | Volvo EX30 Twin Motor Performance | 460 | 3.6 | 69   | 180 |\n| 3 | Maserati   | Maserati GranTurismo Folgore      | 425 | 2.7 | 92.5 | 320 |\n| 4 | Polestar   | Polestar 4 Long Range Dual Motor  | 560 | 3.8 | 102  | 200 |\n| 5 | Jeep       | Jeep Avenger Electric             | 404 | 9   | 54   | 150 |\n| 6 | Smart      | Smart #1 Pulse                    | 400 | 3.9 | 66   | 180 |\n\n",
            "text/latex": "A data.frame: 6 × 6\n\\begin{tabular}{r|llllll}\n  & Brand & CarName & Range & Acceleration & BatteryCapacity & TopSpeed\\\\\n  & <chr> & <chr> & <chr> & <chr> & <chr> & <chr>\\\\\n\\hline\n\t1 & Volkswagen & Volkswagen ID.7 Pro S             & 700 & 7   & 91   & 180\\\\\n\t2 & Volvo      & Volvo EX30 Twin Motor Performance & 460 & 3.6 & 69   & 180\\\\\n\t3 & Maserati   & Maserati GranTurismo Folgore      & 425 & 2.7 & 92.5 & 320\\\\\n\t4 & Polestar   & Polestar 4 Long Range Dual Motor  & 560 & 3.8 & 102  & 200\\\\\n\t5 & Jeep       & Jeep Avenger Electric             & 404 & 9   & 54   & 150\\\\\n\t6 & Smart      & Smart \\#1 Pulse                    & 400 & 3.9 & 66   & 180\\\\\n\\end{tabular}\n",
            "text/plain": [
              "  Brand      CarName                           Range Acceleration BatteryCapacity TopSpeed\n",
              "1 Volkswagen Volkswagen ID.7 Pro S             700   7            91              180     \n",
              "2 Volvo      Volvo EX30 Twin Motor Performance 460   3.6          69              180     \n",
              "3 Maserati   Maserati GranTurismo Folgore      425   2.7          92.5            320     \n",
              "4 Polestar   Polestar 4 Long Range Dual Motor  560   3.8          102             200     \n",
              "5 Jeep       Jeep Avenger Electric             404   9            54              150     \n",
              "6 Smart      Smart #1 Pulse                    400   3.9          66              180     "
            ]
          },
          "metadata": {}
        }
      ]
    },
    {
      "cell_type": "code",
      "source": [
        "#Clean the CarName column by removing Brand\n",
        "\n",
        "clean_car_data <- clean_car_data %>%\n",
        "  mutate(CarName = str_replace(CarName, Brand, \"\"))\n",
        "\n",
        "head(clean_car_data)"
      ],
      "metadata": {
        "id": "HMskKXxfsgyW"
      },
      "execution_count": null,
      "outputs": []
    },
    {
      "cell_type": "code",
      "source": [
        "# Change the columns Range, Acceleration, BatteryCapacity and TopSpeed to Numeric\n",
        "\n",
        "clean_car_data <- clean_car_data %>%\n",
        "  mutate_at(vars(Range, Acceleration, BatteryCapacity, TopSpeed), as.numeric)\n",
        "\n",
        "head(clean_car_data)"
      ],
      "metadata": {
        "id": "L9-Qjptvkwji"
      },
      "execution_count": null,
      "outputs": []
    }
  ]
}